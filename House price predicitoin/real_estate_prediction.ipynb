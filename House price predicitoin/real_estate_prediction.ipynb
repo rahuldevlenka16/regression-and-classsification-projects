{
 "cells": [
  {
   "cell_type": "code",
   "execution_count": 1,
   "metadata": {},
   "outputs": [],
   "source": [
    "import pandas as pd\n",
    "import numpy as np\n",
    "import matplotlib.pyplot as plt\n",
    "import seaborn as sns"
   ]
  },
  {
   "cell_type": "code",
   "execution_count": 2,
   "metadata": {},
   "outputs": [],
   "source": [
    "##customizing matplotlib\n",
    "plt.rcParams['figure.figsize'] = [10,8]# for 8:5 ratio\n",
    "plt.rcParams['font.size'] = 14\n",
    "plt.style.use('seaborn-whitegrid')"
   ]
  },
  {
   "cell_type": "markdown",
   "metadata": {},
   "source": [
    "## Data describtion\n",
    "\n",
    "    1. Title: Boston Housing Data\n",
    "\n",
    "    2. Sources:\n",
    "       (a) Origin:  This dataset was taken from the StatLib library which is\n",
    "                    maintained at Carnegie Mellon University.\n",
    "       (b) Creator:  Harrison, D. and Rubinfeld, D.L. 'Hedonic prices and the \n",
    "                     demand for clean air', J. Environ. Economics & Management,\n",
    "                     vol.5, 81-102, 1978.\n",
    "       (c) Date: July 7, 1993\n",
    "\n",
    "    3. Past Usage:\n",
    "       -   Used in Belsley, Kuh & Welsch, 'Regression diagnostics ...', Wiley, \n",
    "           1980.   N.B. Various transformations are used in the table on\n",
    "           pages 244-261.\n",
    "        -  Quinlan,R. (1993). Combining Instance-Based and Model-Based Learning.\n",
    "           In Proceedings on the Tenth International Conference of Machine \n",
    "           Learning, 236-243, University of Massachusetts, Amherst. Morgan\n",
    "           Kaufmann.\n",
    "\n",
    "    4. Relevant Information:\n",
    "\n",
    "       Concerns housing values in suburbs of Boston.\n",
    "\n",
    "    5. Number of Instances: 506\n",
    "\n",
    "    6. Number of Attributes: 13 continuous attributes (including \"class\"\n",
    "                             attribute \"MEDV\"), 1 binary-valued attribute.\n",
    "\n",
    "    7. Attribute Information:\n",
    "\n",
    "        1. CRIM      per capita crime rate by town\n",
    "        2. ZN        proportion of residential land zoned for lots over \n",
    "                     25,000 sq.ft.\n",
    "        3. INDUS     proportion of non-retail business acres per town\n",
    "        4. CHAS      Charles River dummy variable (= 1 if tract bounds \n",
    "                     river; 0 otherwise)\n",
    "        5. NOX       nitric oxides concentration (parts per 10 million)\n",
    "        6. RM        average number of rooms per dwelling\n",
    "        7. AGE       proportion of owner-occupied units built prior to 1940\n",
    "        8. DIS       weighted distances to five Boston employment centres\n",
    "        9. RAD       index of accessibility to radial highways\n",
    "        10. TAX      full-value property-tax rate per $10,000\n",
    "        11. PTRATIO  pupil-teacher ratio by town\n",
    "        12. B        1000(Bk - 0.63)^2 where Bk is the proportion of blacks \n",
    "                     by town\n",
    "        13. LSTAT    % lower status of the population\n",
    "        14. MEDV     Median value of owner-occupied homes in $1000's\n",
    "\n",
    "\n",
    "\n",
    "\n"
   ]
  },
  {
   "cell_type": "markdown",
   "metadata": {},
   "source": [
    "## import the data"
   ]
  },
  {
   "cell_type": "code",
   "execution_count": 3,
   "metadata": {
    "scrolled": true
   },
   "outputs": [
    {
     "data": {
      "text/html": [
       "<div>\n",
       "<style scoped>\n",
       "    .dataframe tbody tr th:only-of-type {\n",
       "        vertical-align: middle;\n",
       "    }\n",
       "\n",
       "    .dataframe tbody tr th {\n",
       "        vertical-align: top;\n",
       "    }\n",
       "\n",
       "    .dataframe thead th {\n",
       "        text-align: right;\n",
       "    }\n",
       "</style>\n",
       "<table border=\"1\" class=\"dataframe\">\n",
       "  <thead>\n",
       "    <tr style=\"text-align: right;\">\n",
       "      <th></th>\n",
       "      <th>CRIM</th>\n",
       "      <th>ZN</th>\n",
       "      <th>INDUS</th>\n",
       "      <th>CHAS</th>\n",
       "      <th>NOX</th>\n",
       "      <th>RM</th>\n",
       "      <th>AGE</th>\n",
       "      <th>DIS</th>\n",
       "      <th>RAD</th>\n",
       "      <th>TAX</th>\n",
       "      <th>PTRATIO</th>\n",
       "      <th>B</th>\n",
       "      <th>LSTAT</th>\n",
       "      <th>MEDV</th>\n",
       "    </tr>\n",
       "  </thead>\n",
       "  <tbody>\n",
       "    <tr>\n",
       "      <th>0</th>\n",
       "      <td>0.00632</td>\n",
       "      <td>18.0</td>\n",
       "      <td>2.31</td>\n",
       "      <td>0</td>\n",
       "      <td>0.538</td>\n",
       "      <td>6.575</td>\n",
       "      <td>65.2</td>\n",
       "      <td>4.0900</td>\n",
       "      <td>1</td>\n",
       "      <td>296</td>\n",
       "      <td>15.3</td>\n",
       "      <td>396.90</td>\n",
       "      <td>4.98</td>\n",
       "      <td>24.0</td>\n",
       "    </tr>\n",
       "    <tr>\n",
       "      <th>1</th>\n",
       "      <td>0.02731</td>\n",
       "      <td>0.0</td>\n",
       "      <td>7.07</td>\n",
       "      <td>0</td>\n",
       "      <td>0.469</td>\n",
       "      <td>6.421</td>\n",
       "      <td>78.9</td>\n",
       "      <td>4.9671</td>\n",
       "      <td>2</td>\n",
       "      <td>242</td>\n",
       "      <td>17.8</td>\n",
       "      <td>396.90</td>\n",
       "      <td>9.14</td>\n",
       "      <td>21.6</td>\n",
       "    </tr>\n",
       "    <tr>\n",
       "      <th>2</th>\n",
       "      <td>0.02729</td>\n",
       "      <td>0.0</td>\n",
       "      <td>7.07</td>\n",
       "      <td>0</td>\n",
       "      <td>0.469</td>\n",
       "      <td>7.185</td>\n",
       "      <td>61.1</td>\n",
       "      <td>4.9671</td>\n",
       "      <td>2</td>\n",
       "      <td>242</td>\n",
       "      <td>17.8</td>\n",
       "      <td>392.83</td>\n",
       "      <td>4.03</td>\n",
       "      <td>34.7</td>\n",
       "    </tr>\n",
       "    <tr>\n",
       "      <th>3</th>\n",
       "      <td>0.03237</td>\n",
       "      <td>0.0</td>\n",
       "      <td>2.18</td>\n",
       "      <td>0</td>\n",
       "      <td>0.458</td>\n",
       "      <td>6.998</td>\n",
       "      <td>45.8</td>\n",
       "      <td>6.0622</td>\n",
       "      <td>3</td>\n",
       "      <td>222</td>\n",
       "      <td>18.7</td>\n",
       "      <td>394.63</td>\n",
       "      <td>2.94</td>\n",
       "      <td>33.4</td>\n",
       "    </tr>\n",
       "    <tr>\n",
       "      <th>4</th>\n",
       "      <td>0.06905</td>\n",
       "      <td>0.0</td>\n",
       "      <td>2.18</td>\n",
       "      <td>0</td>\n",
       "      <td>0.458</td>\n",
       "      <td>7.147</td>\n",
       "      <td>54.2</td>\n",
       "      <td>6.0622</td>\n",
       "      <td>3</td>\n",
       "      <td>222</td>\n",
       "      <td>18.7</td>\n",
       "      <td>396.90</td>\n",
       "      <td>5.33</td>\n",
       "      <td>36.2</td>\n",
       "    </tr>\n",
       "    <tr>\n",
       "      <th>...</th>\n",
       "      <td>...</td>\n",
       "      <td>...</td>\n",
       "      <td>...</td>\n",
       "      <td>...</td>\n",
       "      <td>...</td>\n",
       "      <td>...</td>\n",
       "      <td>...</td>\n",
       "      <td>...</td>\n",
       "      <td>...</td>\n",
       "      <td>...</td>\n",
       "      <td>...</td>\n",
       "      <td>...</td>\n",
       "      <td>...</td>\n",
       "      <td>...</td>\n",
       "    </tr>\n",
       "    <tr>\n",
       "      <th>501</th>\n",
       "      <td>0.06263</td>\n",
       "      <td>0.0</td>\n",
       "      <td>11.93</td>\n",
       "      <td>0</td>\n",
       "      <td>0.573</td>\n",
       "      <td>6.593</td>\n",
       "      <td>69.1</td>\n",
       "      <td>2.4786</td>\n",
       "      <td>1</td>\n",
       "      <td>273</td>\n",
       "      <td>21.0</td>\n",
       "      <td>391.99</td>\n",
       "      <td>9.67</td>\n",
       "      <td>22.4</td>\n",
       "    </tr>\n",
       "    <tr>\n",
       "      <th>502</th>\n",
       "      <td>0.04527</td>\n",
       "      <td>0.0</td>\n",
       "      <td>11.93</td>\n",
       "      <td>0</td>\n",
       "      <td>0.573</td>\n",
       "      <td>6.120</td>\n",
       "      <td>76.7</td>\n",
       "      <td>2.2875</td>\n",
       "      <td>1</td>\n",
       "      <td>273</td>\n",
       "      <td>21.0</td>\n",
       "      <td>396.90</td>\n",
       "      <td>9.08</td>\n",
       "      <td>20.6</td>\n",
       "    </tr>\n",
       "    <tr>\n",
       "      <th>503</th>\n",
       "      <td>0.06076</td>\n",
       "      <td>0.0</td>\n",
       "      <td>11.93</td>\n",
       "      <td>0</td>\n",
       "      <td>0.573</td>\n",
       "      <td>6.976</td>\n",
       "      <td>91.0</td>\n",
       "      <td>2.1675</td>\n",
       "      <td>1</td>\n",
       "      <td>273</td>\n",
       "      <td>21.0</td>\n",
       "      <td>396.90</td>\n",
       "      <td>5.64</td>\n",
       "      <td>23.9</td>\n",
       "    </tr>\n",
       "    <tr>\n",
       "      <th>504</th>\n",
       "      <td>0.10959</td>\n",
       "      <td>0.0</td>\n",
       "      <td>11.93</td>\n",
       "      <td>0</td>\n",
       "      <td>0.573</td>\n",
       "      <td>6.794</td>\n",
       "      <td>89.3</td>\n",
       "      <td>2.3889</td>\n",
       "      <td>1</td>\n",
       "      <td>273</td>\n",
       "      <td>21.0</td>\n",
       "      <td>393.45</td>\n",
       "      <td>6.48</td>\n",
       "      <td>22.0</td>\n",
       "    </tr>\n",
       "    <tr>\n",
       "      <th>505</th>\n",
       "      <td>0.04741</td>\n",
       "      <td>0.0</td>\n",
       "      <td>11.93</td>\n",
       "      <td>0</td>\n",
       "      <td>0.573</td>\n",
       "      <td>6.030</td>\n",
       "      <td>80.8</td>\n",
       "      <td>2.5050</td>\n",
       "      <td>1</td>\n",
       "      <td>273</td>\n",
       "      <td>21.0</td>\n",
       "      <td>396.90</td>\n",
       "      <td>7.88</td>\n",
       "      <td>11.9</td>\n",
       "    </tr>\n",
       "  </tbody>\n",
       "</table>\n",
       "<p>506 rows × 14 columns</p>\n",
       "</div>"
      ],
      "text/plain": [
       "        CRIM    ZN  INDUS  CHAS    NOX     RM   AGE     DIS  RAD  TAX  \\\n",
       "0    0.00632  18.0   2.31     0  0.538  6.575  65.2  4.0900    1  296   \n",
       "1    0.02731   0.0   7.07     0  0.469  6.421  78.9  4.9671    2  242   \n",
       "2    0.02729   0.0   7.07     0  0.469  7.185  61.1  4.9671    2  242   \n",
       "3    0.03237   0.0   2.18     0  0.458  6.998  45.8  6.0622    3  222   \n",
       "4    0.06905   0.0   2.18     0  0.458  7.147  54.2  6.0622    3  222   \n",
       "..       ...   ...    ...   ...    ...    ...   ...     ...  ...  ...   \n",
       "501  0.06263   0.0  11.93     0  0.573  6.593  69.1  2.4786    1  273   \n",
       "502  0.04527   0.0  11.93     0  0.573  6.120  76.7  2.2875    1  273   \n",
       "503  0.06076   0.0  11.93     0  0.573  6.976  91.0  2.1675    1  273   \n",
       "504  0.10959   0.0  11.93     0  0.573  6.794  89.3  2.3889    1  273   \n",
       "505  0.04741   0.0  11.93     0  0.573  6.030  80.8  2.5050    1  273   \n",
       "\n",
       "     PTRATIO       B  LSTAT  MEDV  \n",
       "0       15.3  396.90   4.98  24.0  \n",
       "1       17.8  396.90   9.14  21.6  \n",
       "2       17.8  392.83   4.03  34.7  \n",
       "3       18.7  394.63   2.94  33.4  \n",
       "4       18.7  396.90   5.33  36.2  \n",
       "..       ...     ...    ...   ...  \n",
       "501     21.0  391.99   9.67  22.4  \n",
       "502     21.0  396.90   9.08  20.6  \n",
       "503     21.0  396.90   5.64  23.9  \n",
       "504     21.0  393.45   6.48  22.0  \n",
       "505     21.0  396.90   7.88  11.9  \n",
       "\n",
       "[506 rows x 14 columns]"
      ]
     },
     "execution_count": 3,
     "metadata": {},
     "output_type": "execute_result"
    }
   ],
   "source": [
    "housing = pd.read_csv(\"real_estate_data.csv\")\n",
    "# cor = housing.corr()\n",
    "# cor[\"MEDV\"].sort_values()\n",
    "housing"
   ]
  },
  {
   "cell_type": "code",
   "execution_count": null,
   "metadata": {},
   "outputs": [],
   "source": []
  },
  {
   "cell_type": "code",
   "execution_count": 4,
   "metadata": {},
   "outputs": [
    {
     "name": "stdout",
     "output_type": "stream",
     "text": [
      "<class 'pandas.core.frame.DataFrame'>\n",
      "RangeIndex: 506 entries, 0 to 505\n",
      "Data columns (total 14 columns):\n",
      " #   Column   Non-Null Count  Dtype  \n",
      "---  ------   --------------  -----  \n",
      " 0   CRIM     506 non-null    float64\n",
      " 1   ZN       506 non-null    float64\n",
      " 2   INDUS    506 non-null    float64\n",
      " 3   CHAS     506 non-null    int64  \n",
      " 4   NOX      506 non-null    float64\n",
      " 5   RM       501 non-null    float64\n",
      " 6   AGE      506 non-null    float64\n",
      " 7   DIS      506 non-null    float64\n",
      " 8   RAD      506 non-null    int64  \n",
      " 9   TAX      506 non-null    int64  \n",
      " 10  PTRATIO  506 non-null    float64\n",
      " 11  B        506 non-null    float64\n",
      " 12  LSTAT    506 non-null    float64\n",
      " 13  MEDV     506 non-null    float64\n",
      "dtypes: float64(11), int64(3)\n",
      "memory usage: 55.5 KB\n"
     ]
    }
   ],
   "source": [
    "housing.info()\n",
    "##evey column is numeric type so no need to convert any object to numbers"
   ]
  },
  {
   "cell_type": "code",
   "execution_count": 5,
   "metadata": {},
   "outputs": [
    {
     "data": {
      "text/plain": [
       "CRIM       504\n",
       "ZN          26\n",
       "INDUS       76\n",
       "CHAS         2\n",
       "NOX         81\n",
       "RM         441\n",
       "AGE        356\n",
       "DIS        412\n",
       "RAD          9\n",
       "TAX         66\n",
       "PTRATIO     46\n",
       "B          357\n",
       "LSTAT      455\n",
       "MEDV       229\n",
       "dtype: int64"
      ]
     },
     "execution_count": 5,
     "metadata": {},
     "output_type": "execute_result"
    }
   ],
   "source": [
    "housing.nunique()"
   ]
  },
  {
   "cell_type": "code",
   "execution_count": 6,
   "metadata": {},
   "outputs": [
    {
     "data": {
      "text/plain": [
       "CRIM       0\n",
       "ZN         0\n",
       "INDUS      0\n",
       "CHAS       0\n",
       "NOX        0\n",
       "RM         5\n",
       "AGE        0\n",
       "DIS        0\n",
       "RAD        0\n",
       "TAX        0\n",
       "PTRATIO    0\n",
       "B          0\n",
       "LSTAT      0\n",
       "MEDV       0\n",
       "dtype: int64"
      ]
     },
     "execution_count": 6,
     "metadata": {},
     "output_type": "execute_result"
    }
   ],
   "source": [
    "housing.isnull().sum()\n"
   ]
  },
  {
   "cell_type": "code",
   "execution_count": 7,
   "metadata": {},
   "outputs": [
    {
     "data": {
      "text/html": [
       "<div>\n",
       "<style scoped>\n",
       "    .dataframe tbody tr th:only-of-type {\n",
       "        vertical-align: middle;\n",
       "    }\n",
       "\n",
       "    .dataframe tbody tr th {\n",
       "        vertical-align: top;\n",
       "    }\n",
       "\n",
       "    .dataframe thead th {\n",
       "        text-align: right;\n",
       "    }\n",
       "</style>\n",
       "<table border=\"1\" class=\"dataframe\">\n",
       "  <thead>\n",
       "    <tr style=\"text-align: right;\">\n",
       "      <th></th>\n",
       "      <th>CRIM</th>\n",
       "      <th>ZN</th>\n",
       "      <th>INDUS</th>\n",
       "      <th>CHAS</th>\n",
       "      <th>NOX</th>\n",
       "      <th>RM</th>\n",
       "      <th>AGE</th>\n",
       "      <th>DIS</th>\n",
       "      <th>RAD</th>\n",
       "      <th>TAX</th>\n",
       "      <th>PTRATIO</th>\n",
       "      <th>B</th>\n",
       "      <th>LSTAT</th>\n",
       "      <th>MEDV</th>\n",
       "    </tr>\n",
       "  </thead>\n",
       "  <tbody>\n",
       "    <tr>\n",
       "      <th>10</th>\n",
       "      <td>0.22489</td>\n",
       "      <td>12.5</td>\n",
       "      <td>7.87</td>\n",
       "      <td>0</td>\n",
       "      <td>0.524</td>\n",
       "      <td>NaN</td>\n",
       "      <td>94.3</td>\n",
       "      <td>6.3467</td>\n",
       "      <td>5</td>\n",
       "      <td>311</td>\n",
       "      <td>15.2</td>\n",
       "      <td>392.52</td>\n",
       "      <td>20.45</td>\n",
       "      <td>15.0</td>\n",
       "    </tr>\n",
       "    <tr>\n",
       "      <th>35</th>\n",
       "      <td>0.06417</td>\n",
       "      <td>0.0</td>\n",
       "      <td>5.96</td>\n",
       "      <td>0</td>\n",
       "      <td>0.499</td>\n",
       "      <td>NaN</td>\n",
       "      <td>68.2</td>\n",
       "      <td>3.3603</td>\n",
       "      <td>5</td>\n",
       "      <td>279</td>\n",
       "      <td>19.2</td>\n",
       "      <td>396.90</td>\n",
       "      <td>9.68</td>\n",
       "      <td>18.9</td>\n",
       "    </tr>\n",
       "    <tr>\n",
       "      <th>63</th>\n",
       "      <td>0.12650</td>\n",
       "      <td>25.0</td>\n",
       "      <td>5.13</td>\n",
       "      <td>0</td>\n",
       "      <td>0.453</td>\n",
       "      <td>NaN</td>\n",
       "      <td>43.4</td>\n",
       "      <td>7.9809</td>\n",
       "      <td>8</td>\n",
       "      <td>284</td>\n",
       "      <td>19.7</td>\n",
       "      <td>395.58</td>\n",
       "      <td>9.50</td>\n",
       "      <td>25.0</td>\n",
       "    </tr>\n",
       "    <tr>\n",
       "      <th>96</th>\n",
       "      <td>0.11504</td>\n",
       "      <td>0.0</td>\n",
       "      <td>2.89</td>\n",
       "      <td>0</td>\n",
       "      <td>0.445</td>\n",
       "      <td>NaN</td>\n",
       "      <td>69.6</td>\n",
       "      <td>3.4952</td>\n",
       "      <td>2</td>\n",
       "      <td>276</td>\n",
       "      <td>18.0</td>\n",
       "      <td>391.83</td>\n",
       "      <td>11.34</td>\n",
       "      <td>21.4</td>\n",
       "    </tr>\n",
       "    <tr>\n",
       "      <th>135</th>\n",
       "      <td>0.55778</td>\n",
       "      <td>0.0</td>\n",
       "      <td>21.89</td>\n",
       "      <td>0</td>\n",
       "      <td>0.624</td>\n",
       "      <td>NaN</td>\n",
       "      <td>98.2</td>\n",
       "      <td>2.1107</td>\n",
       "      <td>4</td>\n",
       "      <td>437</td>\n",
       "      <td>21.2</td>\n",
       "      <td>394.67</td>\n",
       "      <td>16.96</td>\n",
       "      <td>18.1</td>\n",
       "    </tr>\n",
       "  </tbody>\n",
       "</table>\n",
       "</div>"
      ],
      "text/plain": [
       "        CRIM    ZN  INDUS  CHAS    NOX  RM   AGE     DIS  RAD  TAX  PTRATIO  \\\n",
       "10   0.22489  12.5   7.87     0  0.524 NaN  94.3  6.3467    5  311     15.2   \n",
       "35   0.06417   0.0   5.96     0  0.499 NaN  68.2  3.3603    5  279     19.2   \n",
       "63   0.12650  25.0   5.13     0  0.453 NaN  43.4  7.9809    8  284     19.7   \n",
       "96   0.11504   0.0   2.89     0  0.445 NaN  69.6  3.4952    2  276     18.0   \n",
       "135  0.55778   0.0  21.89     0  0.624 NaN  98.2  2.1107    4  437     21.2   \n",
       "\n",
       "          B  LSTAT  MEDV  \n",
       "10   392.52  20.45  15.0  \n",
       "35   396.90   9.68  18.9  \n",
       "63   395.58   9.50  25.0  \n",
       "96   391.83  11.34  21.4  \n",
       "135  394.67  16.96  18.1  "
      ]
     },
     "execution_count": 7,
     "metadata": {},
     "output_type": "execute_result"
    }
   ],
   "source": [
    "housing[housing.RM.isnull()]"
   ]
  },
  {
   "cell_type": "code",
   "execution_count": 8,
   "metadata": {},
   "outputs": [
    {
     "data": {
      "text/plain": [
       "0.9900990099009901"
      ]
     },
     "execution_count": 8,
     "metadata": {},
     "output_type": "execute_result"
    }
   ],
   "source": [
    "5/505*100"
   ]
  },
  {
   "cell_type": "code",
   "execution_count": 9,
   "metadata": {},
   "outputs": [
    {
     "data": {
      "text/plain": [
       "<AxesSubplot:>"
      ]
     },
     "execution_count": 9,
     "metadata": {},
     "output_type": "execute_result"
    },
    {
     "data": {
      "image/png": "[encoded data removed]",
      "text/plain": [
       "<Figure size 720x576 with 2 Axes>"
      ]
     },
     "metadata": {},
     "output_type": "display_data"
    }
   ],
   "source": [
    "sns.heatmap(housing.isnull())"
   ]
  },
  {
   "cell_type": "markdown",
   "metadata": {},
   "source": [
    "### filling the null values"
   ]
  },
  {
   "cell_type": "code",
   "execution_count": 10,
   "metadata": {},
   "outputs": [
    {
     "data": {
      "text/plain": [
       "count    501.000000\n",
       "mean       6.284341\n",
       "std        0.705587\n",
       "min        3.561000\n",
       "25%        5.884000\n",
       "50%        6.208000\n",
       "75%        6.625000\n",
       "max        8.780000\n",
       "Name: RM, dtype: float64"
      ]
     },
     "execution_count": 10,
     "metadata": {},
     "output_type": "execute_result"
    }
   ],
   "source": [
    "housing.RM.describe()"
   ]
  },
  {
   "cell_type": "code",
   "execution_count": 11,
   "metadata": {},
   "outputs": [],
   "source": [
    "housing.RM.fillna(housing.RM.mean(),inplace=True)"
   ]
  },
  {
   "cell_type": "code",
   "execution_count": 12,
   "metadata": {},
   "outputs": [
    {
     "data": {
      "text/plain": [
       "CRIM       5.223149\n",
       "ZN         2.225666\n",
       "INDUS      0.295022\n",
       "CHAS       3.405904\n",
       "NOX        0.729308\n",
       "RM         0.405418\n",
       "AGE       -0.598963\n",
       "DIS        1.011781\n",
       "RAD        1.004815\n",
       "TAX        0.669956\n",
       "PTRATIO   -0.802325\n",
       "B         -2.890374\n",
       "LSTAT      0.906460\n",
       "MEDV       1.108098\n",
       "dtype: float64"
      ]
     },
     "execution_count": 12,
     "metadata": {},
     "output_type": "execute_result"
    }
   ],
   "source": [
    "housing.skew()"
   ]
  },
  {
   "cell_type": "code",
   "execution_count": 13,
   "metadata": {
    "scrolled": true
   },
   "outputs": [
    {
     "data": {
      "text/plain": [
       "CRIM       0\n",
       "ZN         0\n",
       "INDUS      0\n",
       "CHAS       0\n",
       "NOX        0\n",
       "RM         0\n",
       "AGE        0\n",
       "DIS        0\n",
       "RAD        0\n",
       "TAX        0\n",
       "PTRATIO    0\n",
       "B          0\n",
       "LSTAT      0\n",
       "MEDV       0\n",
       "dtype: int64"
      ]
     },
     "execution_count": 13,
     "metadata": {},
     "output_type": "execute_result"
    }
   ],
   "source": [
    "housing.isnull().sum()\n"
   ]
  },
  {
   "cell_type": "code",
   "execution_count": 14,
   "metadata": {},
   "outputs": [],
   "source": [
    "X = housing.drop(\"MEDV\", axis=1)\n",
    "y = housing.MEDV.copy()"
   ]
  },
  {
   "cell_type": "code",
   "execution_count": 15,
   "metadata": {},
   "outputs": [],
   "source": [
    "from sklearn.model_selection import train_test_split\n",
    "X_train,X_test,y_train,y_test = train_test_split(X,y,test_size=0.2,random_state=324) "
   ]
  },
  {
   "cell_type": "code",
   "execution_count": 16,
   "metadata": {},
   "outputs": [
    {
     "name": "stdout",
     "output_type": "stream",
     "text": [
      "(404, 13)\n",
      "(404,)\n",
      "(102, 13)\n",
      "(102,)\n"
     ]
    }
   ],
   "source": [
    "print(X_train.shape)\n",
    "print(y_train.shape)\n",
    "print(X_test.shape)\n",
    "print(y_test.shape)"
   ]
  },
  {
   "cell_type": "markdown",
   "metadata": {},
   "source": [
    "# Scaling the data\n",
    "    Scaling : transform the data such that mean will be 0 and std will be 1\n",
    "    "
   ]
  },
  {
   "cell_type": "code",
   "execution_count": 17,
   "metadata": {},
   "outputs": [],
   "source": [
    "#standard scaler will replace all the value such that standard deviation of each column will be one\n",
    "from sklearn.preprocessing import StandardScaler\n",
    "scaler = StandardScaler()"
   ]
  },
  {
   "cell_type": "code",
   "execution_count": 18,
   "metadata": {},
   "outputs": [],
   "source": [
    "X_train = scaler.fit_transform(X_train)"
   ]
  },
  {
   "cell_type": "markdown",
   "metadata": {},
   "source": [
    "### checking the std and mean of scaled data"
   ]
  },
  {
   "cell_type": "code",
   "execution_count": 19,
   "metadata": {
    "scrolled": true
   },
   "outputs": [
    {
     "data": {
      "text/html": [
       "<div>\n",
       "<style scoped>\n",
       "    .dataframe tbody tr th:only-of-type {\n",
       "        vertical-align: middle;\n",
       "    }\n",
       "\n",
       "    .dataframe tbody tr th {\n",
       "        vertical-align: top;\n",
       "    }\n",
       "\n",
       "    .dataframe thead th {\n",
       "        text-align: right;\n",
       "    }\n",
       "</style>\n",
       "<table border=\"1\" class=\"dataframe\">\n",
       "  <thead>\n",
       "    <tr style=\"text-align: right;\">\n",
       "      <th></th>\n",
       "      <th>CRIM</th>\n",
       "      <th>ZN</th>\n",
       "      <th>INDUS</th>\n",
       "      <th>CHAS</th>\n",
       "      <th>NOX</th>\n",
       "      <th>RM</th>\n",
       "      <th>AGE</th>\n",
       "      <th>DIS</th>\n",
       "      <th>RAD</th>\n",
       "      <th>TAX</th>\n",
       "      <th>PTRATIO</th>\n",
       "      <th>B</th>\n",
       "      <th>LSTAT</th>\n",
       "    </tr>\n",
       "  </thead>\n",
       "  <tbody>\n",
       "    <tr>\n",
       "      <th>0</th>\n",
       "      <td>-0.106996</td>\n",
       "      <td>-0.495453</td>\n",
       "      <td>1.014461</td>\n",
       "      <td>-0.283221</td>\n",
       "      <td>-0.198868</td>\n",
       "      <td>-0.719828</td>\n",
       "      <td>-1.044010</td>\n",
       "      <td>0.127325</td>\n",
       "      <td>1.675791</td>\n",
       "      <td>1.539002</td>\n",
       "      <td>0.792341</td>\n",
       "      <td>0.392351</td>\n",
       "      <td>-0.320521</td>\n",
       "    </tr>\n",
       "    <tr>\n",
       "      <th>1</th>\n",
       "      <td>-0.248735</td>\n",
       "      <td>-0.495453</td>\n",
       "      <td>1.228978</td>\n",
       "      <td>3.530817</td>\n",
       "      <td>0.423164</td>\n",
       "      <td>2.980913</td>\n",
       "      <td>0.893414</td>\n",
       "      <td>-0.768707</td>\n",
       "      <td>-0.512229</td>\n",
       "      <td>-0.030473</td>\n",
       "      <td>-1.750751</td>\n",
       "      <td>0.342192</td>\n",
       "      <td>-1.321754</td>\n",
       "    </tr>\n",
       "    <tr>\n",
       "      <th>2</th>\n",
       "      <td>-0.404984</td>\n",
       "      <td>1.386958</td>\n",
       "      <td>-1.110411</td>\n",
       "      <td>-0.283221</td>\n",
       "      <td>-1.008361</td>\n",
       "      <td>1.285625</td>\n",
       "      <td>-1.550054</td>\n",
       "      <td>1.229374</td>\n",
       "      <td>-0.512229</td>\n",
       "      <td>-0.060311</td>\n",
       "      <td>-1.519561</td>\n",
       "      <td>0.365083</td>\n",
       "      <td>-1.385212</td>\n",
       "    </tr>\n",
       "    <tr>\n",
       "      <th>3</th>\n",
       "      <td>-0.392993</td>\n",
       "      <td>0.424837</td>\n",
       "      <td>-0.759648</td>\n",
       "      <td>-0.283221</td>\n",
       "      <td>-1.059487</td>\n",
       "      <td>-0.062674</td>\n",
       "      <td>0.362068</td>\n",
       "      <td>1.958537</td>\n",
       "      <td>-0.281912</td>\n",
       "      <td>-0.466107</td>\n",
       "      <td>0.283723</td>\n",
       "      <td>0.204057</td>\n",
       "      <td>-0.358596</td>\n",
       "    </tr>\n",
       "    <tr>\n",
       "      <th>4</th>\n",
       "      <td>-0.407725</td>\n",
       "      <td>-0.495453</td>\n",
       "      <td>-0.856760</td>\n",
       "      <td>-0.283221</td>\n",
       "      <td>-0.343724</td>\n",
       "      <td>-0.428074</td>\n",
       "      <td>-0.386154</td>\n",
       "      <td>0.457685</td>\n",
       "      <td>-0.512229</td>\n",
       "      <td>-1.098671</td>\n",
       "      <td>0.792341</td>\n",
       "      <td>0.437012</td>\n",
       "      <td>-0.479872</td>\n",
       "    </tr>\n",
       "    <tr>\n",
       "      <th>...</th>\n",
       "      <td>...</td>\n",
       "      <td>...</td>\n",
       "      <td>...</td>\n",
       "      <td>...</td>\n",
       "      <td>...</td>\n",
       "      <td>...</td>\n",
       "      <td>...</td>\n",
       "      <td>...</td>\n",
       "      <td>...</td>\n",
       "      <td>...</td>\n",
       "      <td>...</td>\n",
       "      <td>...</td>\n",
       "      <td>...</td>\n",
       "    </tr>\n",
       "    <tr>\n",
       "      <th>399</th>\n",
       "      <td>-0.401934</td>\n",
       "      <td>0.341174</td>\n",
       "      <td>-0.600210</td>\n",
       "      <td>-0.283221</td>\n",
       "      <td>-0.778294</td>\n",
       "      <td>0.379205</td>\n",
       "      <td>-0.378924</td>\n",
       "      <td>0.043659</td>\n",
       "      <td>-0.742547</td>\n",
       "      <td>-1.104639</td>\n",
       "      <td>0.052533</td>\n",
       "      <td>0.415243</td>\n",
       "      <td>-0.699861</td>\n",
       "    </tr>\n",
       "    <tr>\n",
       "      <th>400</th>\n",
       "      <td>-0.408261</td>\n",
       "      <td>-0.495453</td>\n",
       "      <td>-1.114759</td>\n",
       "      <td>-0.283221</td>\n",
       "      <td>-0.565270</td>\n",
       "      <td>1.043441</td>\n",
       "      <td>0.618705</td>\n",
       "      <td>-0.185775</td>\n",
       "      <td>-0.857706</td>\n",
       "      <td>-0.824162</td>\n",
       "      <td>-0.317371</td>\n",
       "      <td>0.437012</td>\n",
       "      <td>-1.014333</td>\n",
       "    </tr>\n",
       "    <tr>\n",
       "      <th>401</th>\n",
       "      <td>0.226109</td>\n",
       "      <td>-0.495453</td>\n",
       "      <td>1.014461</td>\n",
       "      <td>-0.283221</td>\n",
       "      <td>1.173010</td>\n",
       "      <td>0.190840</td>\n",
       "      <td>0.969321</td>\n",
       "      <td>-0.993235</td>\n",
       "      <td>1.675791</td>\n",
       "      <td>1.539002</td>\n",
       "      <td>0.792341</td>\n",
       "      <td>0.437012</td>\n",
       "      <td>0.941597</td>\n",
       "    </tr>\n",
       "    <tr>\n",
       "      <th>402</th>\n",
       "      <td>-0.391955</td>\n",
       "      <td>0.424837</td>\n",
       "      <td>-0.759648</td>\n",
       "      <td>-0.283221</td>\n",
       "      <td>-1.059487</td>\n",
       "      <td>-0.959180</td>\n",
       "      <td>0.264474</td>\n",
       "      <td>1.911984</td>\n",
       "      <td>-0.281912</td>\n",
       "      <td>-0.466107</td>\n",
       "      <td>0.283723</td>\n",
       "      <td>0.163100</td>\n",
       "      <td>-0.027202</td>\n",
       "    </tr>\n",
       "    <tr>\n",
       "      <th>403</th>\n",
       "      <td>-0.179995</td>\n",
       "      <td>-0.495453</td>\n",
       "      <td>1.228978</td>\n",
       "      <td>-0.283221</td>\n",
       "      <td>2.689744</td>\n",
       "      <td>-0.794891</td>\n",
       "      <td>1.059685</td>\n",
       "      <td>-1.018039</td>\n",
       "      <td>-0.512229</td>\n",
       "      <td>-0.030473</td>\n",
       "      <td>-1.750751</td>\n",
       "      <td>-1.077305</td>\n",
       "      <td>0.436750</td>\n",
       "    </tr>\n",
       "  </tbody>\n",
       "</table>\n",
       "<p>404 rows × 13 columns</p>\n",
       "</div>"
      ],
      "text/plain": [
       "         CRIM        ZN     INDUS      CHAS       NOX        RM       AGE  \\\n",
       "0   -0.106996 -0.495453  1.014461 -0.283221 -0.198868 -0.719828 -1.044010   \n",
       "1   -0.248735 -0.495453  1.228978  3.530817  0.423164  2.980913  0.893414   \n",
       "2   -0.404984  1.386958 -1.110411 -0.283221 -1.008361  1.285625 -1.550054   \n",
       "3   -0.392993  0.424837 -0.759648 -0.283221 -1.059487 -0.062674  0.362068   \n",
       "4   -0.407725 -0.495453 -0.856760 -0.283221 -0.343724 -0.428074 -0.386154   \n",
       "..        ...       ...       ...       ...       ...       ...       ...   \n",
       "399 -0.401934  0.341174 -0.600210 -0.283221 -0.778294  0.379205 -0.378924   \n",
       "400 -0.408261 -0.495453 -1.114759 -0.283221 -0.565270  1.043441  0.618705   \n",
       "401  0.226109 -0.495453  1.014461 -0.283221  1.173010  0.190840  0.969321   \n",
       "402 -0.391955  0.424837 -0.759648 -0.283221 -1.059487 -0.959180  0.264474   \n",
       "403 -0.179995 -0.495453  1.228978 -0.283221  2.689744 -0.794891  1.059685   \n",
       "\n",
       "          DIS       RAD       TAX   PTRATIO         B     LSTAT  \n",
       "0    0.127325  1.675791  1.539002  0.792341  0.392351 -0.320521  \n",
       "1   -0.768707 -0.512229 -0.030473 -1.750751  0.342192 -1.321754  \n",
       "2    1.229374 -0.512229 -0.060311 -1.519561  0.365083 -1.385212  \n",
       "3    1.958537 -0.281912 -0.466107  0.283723  0.204057 -0.358596  \n",
       "4    0.457685 -0.512229 -1.098671  0.792341  0.437012 -0.479872  \n",
       "..        ...       ...       ...       ...       ...       ...  \n",
       "399  0.043659 -0.742547 -1.104639  0.052533  0.415243 -0.699861  \n",
       "400 -0.185775 -0.857706 -0.824162 -0.317371  0.437012 -1.014333  \n",
       "401 -0.993235  1.675791  1.539002  0.792341  0.437012  0.941597  \n",
       "402  1.911984 -0.281912 -0.466107  0.283723  0.163100 -0.027202  \n",
       "403 -1.018039 -0.512229 -0.030473 -1.750751 -1.077305  0.436750  \n",
       "\n",
       "[404 rows x 13 columns]"
      ]
     },
     "execution_count": 19,
     "metadata": {},
     "output_type": "execute_result"
    }
   ],
   "source": [
    "X_df = pd.DataFrame(X_train,columns=housing.columns[:-1])\n",
    "X_df"
   ]
  },
  {
   "cell_type": "code",
   "execution_count": 20,
   "metadata": {},
   "outputs": [
    {
     "data": {
      "text/plain": [
       "CRIM       1.00124\n",
       "ZN         1.00124\n",
       "INDUS      1.00124\n",
       "CHAS       1.00124\n",
       "NOX        1.00124\n",
       "RM         1.00124\n",
       "AGE        1.00124\n",
       "DIS        1.00124\n",
       "RAD        1.00124\n",
       "TAX        1.00124\n",
       "PTRATIO    1.00124\n",
       "B          1.00124\n",
       "LSTAT      1.00124\n",
       "dtype: float64"
      ]
     },
     "execution_count": 20,
     "metadata": {},
     "output_type": "execute_result"
    }
   ],
   "source": [
    "X_df.std()"
   ]
  },
  {
   "cell_type": "code",
   "execution_count": 21,
   "metadata": {
    "scrolled": true
   },
   "outputs": [
    {
     "data": {
      "text/plain": [
       "CRIM      -8.244230e-19\n",
       "ZN         1.232512e-16\n",
       "INDUS      4.105627e-16\n",
       "CHAS      -1.041521e-16\n",
       "NOX       -2.737084e-16\n",
       "RM         5.650046e-16\n",
       "AGE        9.893076e-18\n",
       "DIS        9.343461e-18\n",
       "RAD       -4.891577e-17\n",
       "TAX        1.371720e-16\n",
       "PTRATIO    7.436296e-16\n",
       "B         -5.853404e-16\n",
       "LSTAT      6.485461e-17\n",
       "dtype: float64"
      ]
     },
     "execution_count": 21,
     "metadata": {},
     "output_type": "execute_result"
    }
   ],
   "source": [
    "X_df.mean()"
   ]
  },
  {
   "cell_type": "code",
   "execution_count": 22,
   "metadata": {
    "scrolled": false
   },
   "outputs": [
    {
     "data": {
      "text/plain": [
       "CRIM       5.142249\n",
       "ZN         2.158296\n",
       "INDUS      0.283104\n",
       "CHAS       3.259712\n",
       "NOX        0.729418\n",
       "RM         0.359261\n",
       "AGE       -0.600304\n",
       "DIS        1.044985\n",
       "RAD        1.023725\n",
       "TAX        0.670046\n",
       "PTRATIO   -0.784203\n",
       "B         -2.917229\n",
       "LSTAT      0.924920\n",
       "dtype: float64"
      ]
     },
     "execution_count": 22,
     "metadata": {},
     "output_type": "execute_result"
    }
   ],
   "source": [
    "X_df.skew()"
   ]
  },
  {
   "cell_type": "markdown",
   "metadata": {},
   "source": [
    "## Creating model\n",
    "    Model tried:\n",
    "        1. LinearRegressor\n",
    "        2. DecisionTreeRegressor\n",
    "        3. RandomForestRegressor(best)"
   ]
  },
  {
   "cell_type": "code",
   "execution_count": 23,
   "metadata": {},
   "outputs": [],
   "source": [
    "from sklearn.linear_model import LinearRegression\n",
    "from sklearn.tree import DecisionTreeRegressor\n",
    "from sklearn.ensemble import RandomForestRegressor\n",
    "model = [LinearRegression(),DecisionTreeRegressor(),RandomForestRegressor()]\n",
    "for i in model:\n",
    "    i.fit(X_train, y_train)"
   ]
  },
  {
   "cell_type": "markdown",
   "metadata": {},
   "source": [
    "## Evaluting all model using rmse on train data"
   ]
  },
  {
   "cell_type": "code",
   "execution_count": 24,
   "metadata": {},
   "outputs": [
    {
     "name": "stdout",
     "output_type": "stream",
     "text": [
      "LinearRegression() RMSE value : 4.823462008208031\n",
      "DecisionTreeRegressor() RMSE value : 0.0\n",
      "RandomForestRegressor() RMSE value : 1.1697488009935062\n"
     ]
    }
   ],
   "source": [
    "from sklearn.metrics import mean_squared_error\n",
    "housing_predictions = []\n",
    "for c,i in enumerate(model):\n",
    "    housing_predictions.append(i.predict(X_train)) \n",
    "    mse = mean_squared_error(y_train, housing_predictions[c])\n",
    "    rmse = np.sqrt(mse)\n",
    "    print(f\"{i} RMSE value : {rmse}\")"
   ]
  },
  {
   "cell_type": "markdown",
   "metadata": {},
   "source": [
    "### NOTE\n",
    "    Decision tree is over fitted as the error is 0\n",
    "    Random forest model is better as the error is lower than linear regression model"
   ]
  },
  {
   "cell_type": "markdown",
   "metadata": {},
   "source": [
    "## Testing model on test data \n",
    "    "
   ]
  },
  {
   "cell_type": "code",
   "execution_count": 25,
   "metadata": {},
   "outputs": [],
   "source": [
    "X_test_prepared = scaler.transform(X_test)\n",
    "final_predictions = []\n",
    "for i in model:\n",
    "    final_predictions.append(i.predict(X_test_prepared)) "
   ]
  },
  {
   "cell_type": "code",
   "execution_count": 26,
   "metadata": {},
   "outputs": [
    {
     "name": "stdout",
     "output_type": "stream",
     "text": [
      "LinearRegression()----->4.162993449872926\n",
      "DecisionTreeRegressor()----->3.434827392415269\n",
      "RandomForestRegressor()----->2.910347597324915\n"
     ]
    }
   ],
   "source": [
    "##evalulatind test data\n",
    "for i,j in zip(final_predictions,model):\n",
    "    final_mse = mean_squared_error(y_test, i)\n",
    "    final_rmse = np.sqrt(final_mse)\n",
    "    print(f\"{j}----->{final_rmse}\")"
   ]
  },
  {
   "cell_type": "markdown",
   "metadata": {},
   "source": [
    "## NOTE\n",
    "     Random forest has lowest error on test data\n",
    "     Since Decision tree was overfitted it has more error on test data\n",
    "   \n",
    "     "
   ]
  },
  {
   "cell_type": "code",
   "execution_count": 34,
   "metadata": {},
   "outputs": [
    {
     "data": {
      "text/plain": [
       "<AxesSubplot:xlabel='MEDV', ylabel='Density'>"
      ]
     },
     "execution_count": 34,
     "metadata": {},
     "output_type": "execute_result"
    },
    {
     "data": {
      "image/png": "[encoded data removed]",
      "text/plain": [
       "<Figure size 720x576 with 1 Axes>"
      ]
     },
     "metadata": {},
     "output_type": "display_data"
    }
   ],
   "source": [
    "sns.kdeplot(y_train);\n",
    "sns.kdeplot(housing_predictions[2], color=\"Red\")"
   ]
  },
  {
   "cell_type": "code",
   "execution_count": 33,
   "metadata": {},
   "outputs": [
    {
     "data": {
      "text/plain": [
       "<AxesSubplot:xlabel='MEDV', ylabel='Density'>"
      ]
     },
     "execution_count": 33,
     "metadata": {},
     "output_type": "execute_result"
    },
    {
     "data": {
      "image/png": "[encoded data removed]",
      "text/plain": [
       "<Figure size 720x576 with 1 Axes>"
      ]
     },
     "metadata": {},
     "output_type": "display_data"
    }
   ],
   "source": [
    "sns.kdeplot(y_test);\n",
    "sns.kdeplot(final_predictions[2], color=\"Red\")"
   ]
  }
 ],
 "metadata": {
  "kernelspec": {
   "display_name": "Python 3",
   "language": "python",
   "name": "python3"
  },
  "language_info": {
   "codemirror_mode": {
    "name": "ipython",
    "version": 3
   },
   "file_extension": ".py",
   "mimetype": "text/x-python",
   "name": "python",
   "nbconvert_exporter": "python",
   "pygments_lexer": "ipython3",
   "version": "3.8.5"
  }
 },
 "nbformat": 4,
 "nbformat_minor": 4
}
